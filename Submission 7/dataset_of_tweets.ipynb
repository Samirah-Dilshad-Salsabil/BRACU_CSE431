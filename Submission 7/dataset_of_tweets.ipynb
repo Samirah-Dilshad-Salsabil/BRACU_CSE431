{
  "cells": [
    {
      "cell_type": "code",
      "source": [
        "!pip install faker"
      ],
      "metadata": {
        "colab": {
          "base_uri": "https://localhost:8080/"
        },
        "id": "XAoZKfEuepw5",
        "outputId": "457420b1-3db8-48ae-af0b-fa269b6d28c5"
      },
      "execution_count": null,
      "outputs": [
        {
          "output_type": "stream",
          "name": "stdout",
          "text": [
            "Looking in indexes: https://pypi.org/simple, https://us-python.pkg.dev/colab-wheels/public/simple/\n",
            "Collecting faker\n",
            "  Downloading Faker-18.6.0-py3-none-any.whl (1.7 MB)\n",
            "\u001b[2K     \u001b[90m━━━━━━━━━━━━━━━━━━━━━━━━━━━━━━━━━━━━━━━━\u001b[0m \u001b[32m1.7/1.7 MB\u001b[0m \u001b[31m62.6 MB/s\u001b[0m eta \u001b[36m0:00:00\u001b[0m\n",
            "\u001b[?25hRequirement already satisfied: python-dateutil>=2.4 in /usr/local/lib/python3.9/dist-packages (from faker) (2.8.2)\n",
            "Requirement already satisfied: six>=1.5 in /usr/local/lib/python3.9/dist-packages (from python-dateutil>=2.4->faker) (1.16.0)\n",
            "Installing collected packages: faker\n",
            "Successfully installed faker-18.6.0\n"
          ]
        }
      ]
    },
    {
      "cell_type": "code",
      "execution_count": null,
      "metadata": {
        "colab": {
          "base_uri": "https://localhost:8080/"
        },
        "id": "t_mA1beyDbkk",
        "outputId": "bc528caa-f412-4ccd-a437-892dc657d70f"
      },
      "outputs": [
        {
          "output_type": "stream",
          "name": "stderr",
          "text": [
            "[nltk_data] Downloading package punkt to /root/nltk_data...\n",
            "[nltk_data]   Package punkt is already up-to-date!\n"
          ]
        },
        {
          "output_type": "execute_result",
          "data": {
            "text/plain": [
              "True"
            ]
          },
          "metadata": {},
          "execution_count": 5
        }
      ],
      "source": [
        "import nltk\n",
        "nltk.download('punkt')"
      ]
    },
    {
      "cell_type": "code",
      "source": [
        "import csv\n",
        "import random\n",
        "from faker import Faker\n",
        "from textblob import TextBlob\n",
        "\n",
        "fake = Faker()\n",
        "\n",
        "# Set number of tweets to generate\n",
        "num_tweets = 1000\n",
        "\n",
        "# Set sentiment values\n",
        "sentiment_values = ['positive', 'negative', 'neutral']\n",
        "\n",
        "# Create CSV file and write header row\n",
        "with open('tweets.csv', mode='w', newline='') as file:\n",
        "    writer = csv.writer(file)\n",
        "    writer.writerow(['Tweet ID', 'Text', 'User', 'Created At', 'Likes', 'Retweets', 'Sentiment'])\n",
        "\n",
        "    # Generate tweets and write rows to CSV\n",
        "    for i in range(num_tweets):\n",
        "        # Generate random tweet ID\n",
        "        tweet_id = random.randint(100000000000000000, 999999999999999999)\n",
        "\n",
        "        # Generate random user name\n",
        "        user = fake.user_name()\n",
        "\n",
        "        # Generate random tweet text and sentiment\n",
        "        if random.random() < 0.33:\n",
        "            # Positive sentiment\n",
        "            text = TextBlob(random.choice([\"I love my life!\", \"This is the best day ever!\", \"Feeling grateful for my friends and family.\"])).sentences[0]\n",
        "            sentiment = sentiment_values[0]\n",
        "        elif random.random() < 0.67:\n",
        "            # Negative sentiment\n",
        "            text = TextBlob(random.choice([\"I'm so upset right now.\", \"I hate it when things don't go my way.\", \"Feeling disappointed in myself.\"])).sentences[0]\n",
        "            sentiment = sentiment_values[1]\n",
        "        else:\n",
        "            # Neutral sentiment\n",
        "            text = TextBlob(random.choice([\"Just had lunch with a friend.\", \"Going for a walk in the park.\", \"Watching a movie tonight.\"])).sentences[0]\n",
        "            sentiment = sentiment_values[2]\n",
        "\n",
        "        # Generate random like count\n",
        "        likes = random.randint(0, 1000)\n",
        "\n",
        "        # Generate random retweet count\n",
        "        retweets = random.randint(0, 1000)\n",
        "\n",
        "        # Generate random date\n",
        "        date = fake.date_time_this_year()\n",
        "\n",
        "        # Write row to CSV\n",
        "        writer.writerow([tweet_id, text, user, date, likes, retweets, sentiment])\n"
      ],
      "metadata": {
        "id": "jWGchn2nedCD"
      },
      "execution_count": null,
      "outputs": []
    }
  ],
  "metadata": {
    "colab": {
      "provenance": []
    },
    "kernelspec": {
      "display_name": "Python 3",
      "name": "python3"
    },
    "language_info": {
      "name": "python"
    }
  },
  "nbformat": 4,
  "nbformat_minor": 0
}